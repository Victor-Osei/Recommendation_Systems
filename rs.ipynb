{
 "cells": [
  {
   "cell_type": "code",
   "execution_count": 1,
   "metadata": {},
   "outputs": [
    {
     "name": "stderr",
     "output_type": "stream",
     "text": [
      "d:\\recommend\\Recommendation_Systems\\RS_virt\\lib\\site-packages\\tqdm\\auto.py:21: TqdmWarning: IProgress not found. Please update jupyter and ipywidgets. See https://ipywidgets.readthedocs.io/en/stable/user_install.html\n",
      "  from .autonotebook import tqdm as notebook_tqdm\n"
     ]
    }
   ],
   "source": [
    "import pandas as pd\n",
    "import numpy as np\n",
    "import matplotlib.pyplot as plt\n",
    "import seaborn as sns\n",
    "from datetime import datetime\n",
    "from sklearn.model_selection import train_test_split\n",
    "from sklearn.linear_model import LinearRegression\n",
    "from sklearn.ensemble import IsolationForest\n",
    "import pickle\n",
    "import scipy.sparse as sparse\n",
    "from implicit.als import AlternatingLeastSquares "
   ]
  },
  {
   "cell_type": "markdown",
   "metadata": {},
   "source": [
    "## Exploratory Data Analysis"
   ]
  },
  {
   "cell_type": "code",
   "execution_count": 2,
   "metadata": {},
   "outputs": [
    {
     "name": "stdout",
     "output_type": "stream",
     "text": [
      "Events Dataset Info:\n",
      "<class 'pandas.core.frame.DataFrame'>\n",
      "RangeIndex: 2756101 entries, 0 to 2756100\n",
      "Data columns (total 5 columns):\n",
      " #   Column         Dtype  \n",
      "---  ------         -----  \n",
      " 0   timestamp      int64  \n",
      " 1   visitorid      int64  \n",
      " 2   event          object \n",
      " 3   itemid         int64  \n",
      " 4   transactionid  float64\n",
      "dtypes: float64(1), int64(3), object(1)\n",
      "memory usage: 105.1+ MB\n",
      "\n",
      "Item Properties Dataset Info:\n",
      "<class 'pandas.core.frame.DataFrame'>\n",
      "Index: 20275902 entries, 0 to 9275902\n",
      "Data columns (total 4 columns):\n",
      " #   Column     Dtype \n",
      "---  ------     ----- \n",
      " 0   timestamp  int64 \n",
      " 1   itemid     int64 \n",
      " 2   property   object\n",
      " 3   value      object\n",
      "dtypes: int64(2), object(2)\n",
      "memory usage: 773.5+ MB\n",
      "\n",
      "Category Tree Dataset Info:\n",
      "<class 'pandas.core.frame.DataFrame'>\n",
      "RangeIndex: 1669 entries, 0 to 1668\n",
      "Data columns (total 2 columns):\n",
      " #   Column      Non-Null Count  Dtype  \n",
      "---  ------      --------------  -----  \n",
      " 0   categoryid  1669 non-null   int64  \n",
      " 1   parentid    1644 non-null   float64\n",
      "dtypes: float64(1), int64(1)\n",
      "memory usage: 26.2 KB\n"
     ]
    }
   ],
   "source": [
    "\n",
    "\n",
    "# Load raw CSV files\n",
    "events_df = pd.read_csv(\"events.csv\")\n",
    "item_properties_1 = pd.read_csv(\"item_properties_part1.1.csv\")\n",
    "item_properties_2 = pd.read_csv(\"item_properties_part2.csv\")\n",
    "category_tree = pd.read_csv(\"category_tree.csv\")\n",
    "\n",
    "# Merge item properties (since it's split into two parts)\n",
    "item_properties = pd.concat([item_properties_1, item_properties_2])\n",
    "\n",
    "# Display basic info\n",
    "print(\"Events Dataset Info:\")\n",
    "events_df.info()\n",
    "print(\"\\nItem Properties Dataset Info:\")\n",
    "item_properties.info()\n",
    "print(\"\\nCategory Tree Dataset Info:\")\n",
    "category_tree.info()\n"
   ]
  },
  {
   "cell_type": "code",
   "execution_count": 3,
   "metadata": {},
   "outputs": [
    {
     "name": "stdout",
     "output_type": "stream",
     "text": [
      "Missing Values in Events Dataset:\n",
      "timestamp              0\n",
      "visitorid              0\n",
      "event                  0\n",
      "itemid                 0\n",
      "transactionid    2733644\n",
      "dtype: int64\n",
      "\n",
      "Missing Values in Item Properties Dataset:\n",
      "timestamp    0\n",
      "itemid       0\n",
      "property     0\n",
      "value        0\n",
      "dtype: int64\n",
      "\n",
      "Missing Values in Category Tree Dataset:\n",
      "categoryid     0\n",
      "parentid      25\n",
      "dtype: int64\n"
     ]
    }
   ],
   "source": [
    "# Check missing values in all datasets\n",
    "print(\"Missing Values in Events Dataset:\")\n",
    "print(events_df.isnull().sum())\n",
    "\n",
    "print(\"\\nMissing Values in Item Properties Dataset:\")\n",
    "print(item_properties.isnull().sum())\n",
    "\n",
    "print(\"\\nMissing Values in Category Tree Dataset:\")\n",
    "print(category_tree.isnull().sum())\n"
   ]
  },
  {
   "cell_type": "code",
   "execution_count": 5,
   "metadata": {},
   "outputs": [
    {
     "name": "stdout",
     "output_type": "stream",
     "text": [
      "          timestamp     visitorid        itemid  transactionid\n",
      "count  2.756101e+06  2.756101e+06  2.756101e+06   22457.000000\n",
      "mean   1.436424e+12  7.019229e+05  2.349225e+05    8826.497796\n",
      "std    3.366312e+09  4.056875e+05  1.341954e+05    5098.996290\n",
      "min    1.430622e+12  0.000000e+00  3.000000e+00       0.000000\n",
      "25%    1.433478e+12  3.505660e+05  1.181200e+05    4411.000000\n",
      "50%    1.436453e+12  7.020600e+05  2.360670e+05    8813.000000\n",
      "75%    1.439225e+12  1.053437e+06  3.507150e+05   13224.000000\n",
      "max    1.442545e+12  1.407579e+06  4.668670e+05   17671.000000\n"
     ]
    }
   ],
   "source": [
    "# Summary statistics for numerical columns\n",
    "print(events_df.describe())\n",
    "\n"
   ]
  },
  {
   "cell_type": "code",
   "execution_count": 6,
   "metadata": {},
   "outputs": [
    {
     "name": "stdout",
     "output_type": "stream",
     "text": [
      "          timestamp        itemid\n",
      "count  2.027590e+07  2.027590e+07\n",
      "mean   1.435157e+12  2.333904e+05\n",
      "std    3.327798e+09  1.348452e+05\n",
      "min    1.431227e+12  0.000000e+00\n",
      "25%    1.432436e+12  1.165160e+05\n",
      "50%    1.433646e+12  2.334830e+05\n",
      "75%    1.437880e+12  3.503040e+05\n",
      "max    1.442113e+12  4.668660e+05\n"
     ]
    }
   ],
   "source": [
    "# If item properties contain numeric values:\n",
    "print(item_properties.describe())\n"
   ]
  },
  {
   "cell_type": "code",
   "execution_count": null,
   "metadata": {},
   "outputs": [],
   "source": []
  },
  {
   "cell_type": "code",
   "execution_count": null,
   "metadata": {},
   "outputs": [],
   "source": []
  }
 ],
 "metadata": {
  "kernelspec": {
   "display_name": "RS_virt",
   "language": "python",
   "name": "python3"
  },
  "language_info": {
   "codemirror_mode": {
    "name": "ipython",
    "version": 3
   },
   "file_extension": ".py",
   "mimetype": "text/x-python",
   "name": "python",
   "nbconvert_exporter": "python",
   "pygments_lexer": "ipython3",
   "version": "3.10.11"
  }
 },
 "nbformat": 4,
 "nbformat_minor": 2
}
